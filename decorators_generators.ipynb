{
  "nbformat": 4,
  "nbformat_minor": 0,
  "metadata": {
    "colab": {
      "provenance": [],
      "authorship_tag": "ABX9TyNAt0Q3g3mRJRUchz9/buyl",
      "include_colab_link": true
    },
    "kernelspec": {
      "name": "python3",
      "display_name": "Python 3"
    },
    "language_info": {
      "name": "python"
    }
  },
  "cells": [
    {
      "cell_type": "markdown",
      "metadata": {
        "id": "view-in-github",
        "colab_type": "text"
      },
      "source": [
        "<a href=\"https://colab.research.google.com/github/Markizoid/training_skills/blob/master/decorators_generators.ipynb\" target=\"_parent\"><img src=\"https://colab.research.google.com/assets/colab-badge.svg\" alt=\"Open In Colab\"/></a>"
      ]
    },
    {
      "cell_type": "code",
      "execution_count": 1,
      "metadata": {
        "id": "ROBvd2R4IvZ2"
      },
      "outputs": [],
      "source": [
        "import pandas as pd\n",
        "import numpy as np\n",
        "# добавил строку "
      ]
    },
    {
      "cell_type": "code",
      "source": [
        "# создал вложенную функцию. ВАЖНО: внутренняя возращает результат, а главная – возвращает внутреннюю\n",
        "# здесь пременная а замкнута. \n",
        "def multi(a):\n",
        "  def helper(b):\n",
        "    return a*b\n",
        "  return helper"
      ],
      "metadata": {
        "id": "kia3X1ZLNttC"
      },
      "execution_count": 17,
      "outputs": []
    },
    {
      "cell_type": "code",
      "source": [
        "multi(3)(8)"
      ],
      "metadata": {
        "colab": {
          "base_uri": "https://localhost:8080/"
        },
        "id": "DafzOy35N09-",
        "outputId": "1cf3114b-3126-435d-99a2-c86c5608b518"
      },
      "execution_count": 15,
      "outputs": [
        {
          "output_type": "execute_result",
          "data": {
            "text/plain": [
              "24"
            ]
          },
          "metadata": {},
          "execution_count": 15
        }
      ]
    },
    {
      "cell_type": "code",
      "source": [
        "# тут создал новый объект на основе главной функции multi с переданным в нее аргументом 3 НО КУДА ОН ТУТ ПЕРЕДАЕТСЯ?? \n",
        "# удобство в том, что можно создавать новые умножители без задания новой функции, а просто обращаясь к multi()\n",
        "# вызывая three_mult(), фактически обращаемся к функции helper(), с уже переданной в нее замкнутым аргументом а\n",
        "three_multi = multi(3)\n",
        "three_multi(4)"
      ],
      "metadata": {
        "colab": {
          "base_uri": "https://localhost:8080/"
        },
        "id": "e--fXBwuN-SY",
        "outputId": "739c4e45-6973-4aa8-c2d7-85e1edd0f243"
      },
      "execution_count": 16,
      "outputs": [
        {
          "output_type": "execute_result",
          "data": {
            "text/plain": [
              "12"
            ]
          },
          "metadata": {},
          "execution_count": 16
        }
      ]
    },
    {
      "cell_type": "code",
      "source": [
        "# допустим есть две функции, которые мы хотим немного подкорректировать \n",
        "\n",
        "def print1():\n",
        "  print('Printing... 1')\n",
        "\n",
        "\n",
        "def print2():\n",
        "  print('Printing... 2')\n",
        "\n",
        "# создаем новую функцию, в которую в кач-ве аргумента будем передавать другую функицю\n",
        "def simple_decor(fn):\n",
        "  def wraper():\n",
        "    print('START of printing')\n",
        "    fn()\n",
        "    print('END of printing')\n",
        "  return wraper\n",
        "\n",
        "\n",
        "decored_1 = simple_decor(print1)\n",
        "decored_2 = simple_decor(print2)\n",
        "\n",
        "decored_1()"
      ],
      "metadata": {
        "colab": {
          "base_uri": "https://localhost:8080/"
        },
        "id": "U5FRZuafNIyh",
        "outputId": "ea8d3461-9482-41cd-9d7f-daefdc74bece"
      },
      "execution_count": 47,
      "outputs": [
        {
          "output_type": "stream",
          "name": "stdout",
          "text": [
            "START of printing\n",
            "Printing... 1\n",
            "END of printing\n"
          ]
        }
      ]
    },
    {
      "cell_type": "code",
      "source": [
        "def simple_decore(fn):\n",
        "    def wrapper():\n",
        "        print(\"Run function\")\n",
        "        fn()\n",
        "        print(\"Stop function\")\n",
        "    return wrapper\n",
        "\n",
        "\n",
        "first_test_wrapped = simple_decore(print1)\n",
        "second_test_wrapped = simple_decore(print2)"
      ],
      "metadata": {
        "id": "ZGf_ldl9WsVz"
      },
      "execution_count": 42,
      "outputs": []
    },
    {
      "cell_type": "code",
      "source": [],
      "metadata": {
        "colab": {
          "base_uri": "https://localhost:8080/"
        },
        "id": "sI-0jtEgNKkh",
        "outputId": "82453330-ab82-43a9-8879-db77584108e7"
      },
      "execution_count": 36,
      "outputs": [
        {
          "output_type": "stream",
          "name": "stdout",
          "text": [
            "Printing... 1\n"
          ]
        }
      ]
    },
    {
      "cell_type": "code",
      "source": [
        "first_test_wrapped()"
      ],
      "metadata": {
        "colab": {
          "base_uri": "https://localhost:8080/"
        },
        "id": "c2vB7v_NNerh",
        "outputId": "1816addd-576b-4f7c-b792-36e8435798d5"
      },
      "execution_count": 43,
      "outputs": [
        {
          "output_type": "stream",
          "name": "stdout",
          "text": [
            "Run function\n",
            "Printing... 1\n",
            "Stop function\n"
          ]
        }
      ]
    },
    {
      "cell_type": "code",
      "source": [],
      "metadata": {
        "id": "hn4iEiTkXMLx"
      },
      "execution_count": null,
      "outputs": []
    }
  ]
}